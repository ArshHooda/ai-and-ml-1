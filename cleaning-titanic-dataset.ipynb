{
 "cells": [
  {
   "cell_type": "code",
   "execution_count": 1,
   "id": "48ec7527",
   "metadata": {
    "_cell_guid": "b1076dfc-b9ad-4769-8c92-a6c4dae69d19",
    "_uuid": "8f2839f25d086af736a60e9eeb907d3b93b6e0e5",
    "execution": {
     "iopub.execute_input": "2025-07-01T11:20:34.425790Z",
     "iopub.status.busy": "2025-07-01T11:20:34.425495Z",
     "iopub.status.idle": "2025-07-01T11:20:37.993892Z",
     "shell.execute_reply": "2025-07-01T11:20:37.993119Z"
    },
    "papermill": {
     "duration": 3.579054,
     "end_time": "2025-07-01T11:20:37.995536",
     "exception": false,
     "start_time": "2025-07-01T11:20:34.416482",
     "status": "completed"
    },
    "tags": []
   },
   "outputs": [],
   "source": [
    "import numpy as np\n",
    "import pandas as pd\n",
    "from sklearn.model_selection import train_test_split\n",
    "from sklearn.preprocessing import StandardScaler\n",
    "from sklearn.linear_model import LogisticRegression\n",
    "from sklearn.metrics import accuracy_score"
   ]
  },
  {
   "cell_type": "code",
   "execution_count": 2,
   "id": "9020a23d",
   "metadata": {
    "execution": {
     "iopub.execute_input": "2025-07-01T11:20:38.010943Z",
     "iopub.status.busy": "2025-07-01T11:20:38.010515Z",
     "iopub.status.idle": "2025-07-01T11:20:38.034686Z",
     "shell.execute_reply": "2025-07-01T11:20:38.033837Z"
    },
    "papermill": {
     "duration": 0.0336,
     "end_time": "2025-07-01T11:20:38.036422",
     "exception": false,
     "start_time": "2025-07-01T11:20:38.002822",
     "status": "completed"
    },
    "tags": []
   },
   "outputs": [],
   "source": [
    "data=pd.read_csv('/kaggle/input/titanic-dataset/Titanic-Dataset.csv')"
   ]
  },
  {
   "cell_type": "code",
   "execution_count": 3,
   "id": "8faea4da",
   "metadata": {
    "execution": {
     "iopub.execute_input": "2025-07-01T11:20:38.051450Z",
     "iopub.status.busy": "2025-07-01T11:20:38.051112Z",
     "iopub.status.idle": "2025-07-01T11:20:38.080299Z",
     "shell.execute_reply": "2025-07-01T11:20:38.079421Z"
    },
    "papermill": {
     "duration": 0.038091,
     "end_time": "2025-07-01T11:20:38.081586",
     "exception": false,
     "start_time": "2025-07-01T11:20:38.043495",
     "status": "completed"
    },
    "tags": []
   },
   "outputs": [
    {
     "data": {
      "text/html": [
       "<div>\n",
       "<style scoped>\n",
       "    .dataframe tbody tr th:only-of-type {\n",
       "        vertical-align: middle;\n",
       "    }\n",
       "\n",
       "    .dataframe tbody tr th {\n",
       "        vertical-align: top;\n",
       "    }\n",
       "\n",
       "    .dataframe thead th {\n",
       "        text-align: right;\n",
       "    }\n",
       "</style>\n",
       "<table border=\"1\" class=\"dataframe\">\n",
       "  <thead>\n",
       "    <tr style=\"text-align: right;\">\n",
       "      <th></th>\n",
       "      <th>PassengerId</th>\n",
       "      <th>Survived</th>\n",
       "      <th>Pclass</th>\n",
       "      <th>Name</th>\n",
       "      <th>Sex</th>\n",
       "      <th>Age</th>\n",
       "      <th>SibSp</th>\n",
       "      <th>Parch</th>\n",
       "      <th>Ticket</th>\n",
       "      <th>Fare</th>\n",
       "      <th>Cabin</th>\n",
       "      <th>Embarked</th>\n",
       "    </tr>\n",
       "  </thead>\n",
       "  <tbody>\n",
       "    <tr>\n",
       "      <th>0</th>\n",
       "      <td>1</td>\n",
       "      <td>0</td>\n",
       "      <td>3</td>\n",
       "      <td>Braund, Mr. Owen Harris</td>\n",
       "      <td>male</td>\n",
       "      <td>22.0</td>\n",
       "      <td>1</td>\n",
       "      <td>0</td>\n",
       "      <td>A/5 21171</td>\n",
       "      <td>7.2500</td>\n",
       "      <td>NaN</td>\n",
       "      <td>S</td>\n",
       "    </tr>\n",
       "    <tr>\n",
       "      <th>1</th>\n",
       "      <td>2</td>\n",
       "      <td>1</td>\n",
       "      <td>1</td>\n",
       "      <td>Cumings, Mrs. John Bradley (Florence Briggs Th...</td>\n",
       "      <td>female</td>\n",
       "      <td>38.0</td>\n",
       "      <td>1</td>\n",
       "      <td>0</td>\n",
       "      <td>PC 17599</td>\n",
       "      <td>71.2833</td>\n",
       "      <td>C85</td>\n",
       "      <td>C</td>\n",
       "    </tr>\n",
       "    <tr>\n",
       "      <th>2</th>\n",
       "      <td>3</td>\n",
       "      <td>1</td>\n",
       "      <td>3</td>\n",
       "      <td>Heikkinen, Miss. Laina</td>\n",
       "      <td>female</td>\n",
       "      <td>26.0</td>\n",
       "      <td>0</td>\n",
       "      <td>0</td>\n",
       "      <td>STON/O2. 3101282</td>\n",
       "      <td>7.9250</td>\n",
       "      <td>NaN</td>\n",
       "      <td>S</td>\n",
       "    </tr>\n",
       "    <tr>\n",
       "      <th>3</th>\n",
       "      <td>4</td>\n",
       "      <td>1</td>\n",
       "      <td>1</td>\n",
       "      <td>Futrelle, Mrs. Jacques Heath (Lily May Peel)</td>\n",
       "      <td>female</td>\n",
       "      <td>35.0</td>\n",
       "      <td>1</td>\n",
       "      <td>0</td>\n",
       "      <td>113803</td>\n",
       "      <td>53.1000</td>\n",
       "      <td>C123</td>\n",
       "      <td>S</td>\n",
       "    </tr>\n",
       "    <tr>\n",
       "      <th>4</th>\n",
       "      <td>5</td>\n",
       "      <td>0</td>\n",
       "      <td>3</td>\n",
       "      <td>Allen, Mr. William Henry</td>\n",
       "      <td>male</td>\n",
       "      <td>35.0</td>\n",
       "      <td>0</td>\n",
       "      <td>0</td>\n",
       "      <td>373450</td>\n",
       "      <td>8.0500</td>\n",
       "      <td>NaN</td>\n",
       "      <td>S</td>\n",
       "    </tr>\n",
       "  </tbody>\n",
       "</table>\n",
       "</div>"
      ],
      "text/plain": [
       "   PassengerId  Survived  Pclass  \\\n",
       "0            1         0       3   \n",
       "1            2         1       1   \n",
       "2            3         1       3   \n",
       "3            4         1       1   \n",
       "4            5         0       3   \n",
       "\n",
       "                                                Name     Sex   Age  SibSp  \\\n",
       "0                            Braund, Mr. Owen Harris    male  22.0      1   \n",
       "1  Cumings, Mrs. John Bradley (Florence Briggs Th...  female  38.0      1   \n",
       "2                             Heikkinen, Miss. Laina  female  26.0      0   \n",
       "3       Futrelle, Mrs. Jacques Heath (Lily May Peel)  female  35.0      1   \n",
       "4                           Allen, Mr. William Henry    male  35.0      0   \n",
       "\n",
       "   Parch            Ticket     Fare Cabin Embarked  \n",
       "0      0         A/5 21171   7.2500   NaN        S  \n",
       "1      0          PC 17599  71.2833   C85        C  \n",
       "2      0  STON/O2. 3101282   7.9250   NaN        S  \n",
       "3      0            113803  53.1000  C123        S  \n",
       "4      0            373450   8.0500   NaN        S  "
      ]
     },
     "execution_count": 3,
     "metadata": {},
     "output_type": "execute_result"
    }
   ],
   "source": [
    "data.head()"
   ]
  },
  {
   "cell_type": "code",
   "execution_count": 4,
   "id": "33158abe",
   "metadata": {
    "execution": {
     "iopub.execute_input": "2025-07-01T11:20:38.097135Z",
     "iopub.status.busy": "2025-07-01T11:20:38.096418Z",
     "iopub.status.idle": "2025-07-01T11:20:38.120135Z",
     "shell.execute_reply": "2025-07-01T11:20:38.118989Z"
    },
    "papermill": {
     "duration": 0.03287,
     "end_time": "2025-07-01T11:20:38.121518",
     "exception": false,
     "start_time": "2025-07-01T11:20:38.088648",
     "status": "completed"
    },
    "tags": []
   },
   "outputs": [
    {
     "name": "stdout",
     "output_type": "stream",
     "text": [
      "<class 'pandas.core.frame.DataFrame'>\n",
      "RangeIndex: 891 entries, 0 to 890\n",
      "Data columns (total 12 columns):\n",
      " #   Column       Non-Null Count  Dtype  \n",
      "---  ------       --------------  -----  \n",
      " 0   PassengerId  891 non-null    int64  \n",
      " 1   Survived     891 non-null    int64  \n",
      " 2   Pclass       891 non-null    int64  \n",
      " 3   Name         891 non-null    object \n",
      " 4   Sex          891 non-null    object \n",
      " 5   Age          714 non-null    float64\n",
      " 6   SibSp        891 non-null    int64  \n",
      " 7   Parch        891 non-null    int64  \n",
      " 8   Ticket       891 non-null    object \n",
      " 9   Fare         891 non-null    float64\n",
      " 10  Cabin        204 non-null    object \n",
      " 11  Embarked     889 non-null    object \n",
      "dtypes: float64(2), int64(5), object(5)\n",
      "memory usage: 83.7+ KB\n"
     ]
    }
   ],
   "source": [
    "data.info()"
   ]
  },
  {
   "cell_type": "code",
   "execution_count": 5,
   "id": "de8e8f0f",
   "metadata": {
    "execution": {
     "iopub.execute_input": "2025-07-01T11:20:38.137583Z",
     "iopub.status.busy": "2025-07-01T11:20:38.137286Z",
     "iopub.status.idle": "2025-07-01T11:20:38.143418Z",
     "shell.execute_reply": "2025-07-01T11:20:38.142722Z"
    },
    "papermill": {
     "duration": 0.015875,
     "end_time": "2025-07-01T11:20:38.144694",
     "exception": false,
     "start_time": "2025-07-01T11:20:38.128819",
     "status": "completed"
    },
    "tags": []
   },
   "outputs": [
    {
     "data": {
      "text/plain": [
       "0"
      ]
     },
     "execution_count": 5,
     "metadata": {},
     "output_type": "execute_result"
    }
   ],
   "source": [
    "data['Name'].isnull().sum()"
   ]
  },
  {
   "cell_type": "code",
   "execution_count": 6,
   "id": "2280f6bc",
   "metadata": {
    "execution": {
     "iopub.execute_input": "2025-07-01T11:20:38.160541Z",
     "iopub.status.busy": "2025-07-01T11:20:38.160257Z",
     "iopub.status.idle": "2025-07-01T11:20:38.167577Z",
     "shell.execute_reply": "2025-07-01T11:20:38.166903Z"
    },
    "papermill": {
     "duration": 0.016615,
     "end_time": "2025-07-01T11:20:38.168915",
     "exception": false,
     "start_time": "2025-07-01T11:20:38.152300",
     "status": "completed"
    },
    "tags": []
   },
   "outputs": [],
   "source": [
    "data=data.drop(columns='Name')"
   ]
  },
  {
   "cell_type": "code",
   "execution_count": 7,
   "id": "99611388",
   "metadata": {
    "execution": {
     "iopub.execute_input": "2025-07-01T11:20:38.184529Z",
     "iopub.status.busy": "2025-07-01T11:20:38.184172Z",
     "iopub.status.idle": "2025-07-01T11:20:38.194997Z",
     "shell.execute_reply": "2025-07-01T11:20:38.194052Z"
    },
    "papermill": {
     "duration": 0.019969,
     "end_time": "2025-07-01T11:20:38.196344",
     "exception": false,
     "start_time": "2025-07-01T11:20:38.176375",
     "status": "completed"
    },
    "tags": []
   },
   "outputs": [
    {
     "name": "stdout",
     "output_type": "stream",
     "text": [
      "<class 'pandas.core.frame.DataFrame'>\n",
      "RangeIndex: 891 entries, 0 to 890\n",
      "Data columns (total 11 columns):\n",
      " #   Column       Non-Null Count  Dtype  \n",
      "---  ------       --------------  -----  \n",
      " 0   PassengerId  891 non-null    int64  \n",
      " 1   Survived     891 non-null    int64  \n",
      " 2   Pclass       891 non-null    int64  \n",
      " 3   Sex          891 non-null    object \n",
      " 4   Age          714 non-null    float64\n",
      " 5   SibSp        891 non-null    int64  \n",
      " 6   Parch        891 non-null    int64  \n",
      " 7   Ticket       891 non-null    object \n",
      " 8   Fare         891 non-null    float64\n",
      " 9   Cabin        204 non-null    object \n",
      " 10  Embarked     889 non-null    object \n",
      "dtypes: float64(2), int64(5), object(4)\n",
      "memory usage: 76.7+ KB\n"
     ]
    }
   ],
   "source": [
    "data.info()"
   ]
  },
  {
   "cell_type": "code",
   "execution_count": 8,
   "id": "0a73bbe8",
   "metadata": {
    "execution": {
     "iopub.execute_input": "2025-07-01T11:20:38.212445Z",
     "iopub.status.busy": "2025-07-01T11:20:38.211717Z",
     "iopub.status.idle": "2025-07-01T11:20:38.219997Z",
     "shell.execute_reply": "2025-07-01T11:20:38.219350Z"
    },
    "papermill": {
     "duration": 0.017766,
     "end_time": "2025-07-01T11:20:38.221363",
     "exception": false,
     "start_time": "2025-07-01T11:20:38.203597",
     "status": "completed"
    },
    "tags": []
   },
   "outputs": [],
   "source": [
    "data=pd.get_dummies(data,columns=['Sex'])"
   ]
  },
  {
   "cell_type": "code",
   "execution_count": 9,
   "id": "e84a6cad",
   "metadata": {
    "execution": {
     "iopub.execute_input": "2025-07-01T11:20:38.237318Z",
     "iopub.status.busy": "2025-07-01T11:20:38.236944Z",
     "iopub.status.idle": "2025-07-01T11:20:38.243335Z",
     "shell.execute_reply": "2025-07-01T11:20:38.242490Z"
    },
    "papermill": {
     "duration": 0.016209,
     "end_time": "2025-07-01T11:20:38.244871",
     "exception": false,
     "start_time": "2025-07-01T11:20:38.228662",
     "status": "completed"
    },
    "tags": []
   },
   "outputs": [
    {
     "data": {
      "text/plain": [
       "177"
      ]
     },
     "execution_count": 9,
     "metadata": {},
     "output_type": "execute_result"
    }
   ],
   "source": [
    "data['Age'].isnull().sum()"
   ]
  },
  {
   "cell_type": "code",
   "execution_count": 10,
   "id": "d0ca2a79",
   "metadata": {
    "execution": {
     "iopub.execute_input": "2025-07-01T11:20:38.261374Z",
     "iopub.status.busy": "2025-07-01T11:20:38.260491Z",
     "iopub.status.idle": "2025-07-01T11:20:38.266430Z",
     "shell.execute_reply": "2025-07-01T11:20:38.265609Z"
    },
    "papermill": {
     "duration": 0.015468,
     "end_time": "2025-07-01T11:20:38.267790",
     "exception": false,
     "start_time": "2025-07-01T11:20:38.252322",
     "status": "completed"
    },
    "tags": []
   },
   "outputs": [
    {
     "data": {
      "text/plain": [
       "(891, 12)"
      ]
     },
     "execution_count": 10,
     "metadata": {},
     "output_type": "execute_result"
    }
   ],
   "source": [
    "data.shape"
   ]
  },
  {
   "cell_type": "code",
   "execution_count": 11,
   "id": "8bed0bc0",
   "metadata": {
    "execution": {
     "iopub.execute_input": "2025-07-01T11:20:38.284213Z",
     "iopub.status.busy": "2025-07-01T11:20:38.283842Z",
     "iopub.status.idle": "2025-07-01T11:20:38.313335Z",
     "shell.execute_reply": "2025-07-01T11:20:38.312527Z"
    },
    "papermill": {
     "duration": 0.039659,
     "end_time": "2025-07-01T11:20:38.314760",
     "exception": false,
     "start_time": "2025-07-01T11:20:38.275101",
     "status": "completed"
    },
    "tags": []
   },
   "outputs": [
    {
     "data": {
      "text/html": [
       "<div>\n",
       "<style scoped>\n",
       "    .dataframe tbody tr th:only-of-type {\n",
       "        vertical-align: middle;\n",
       "    }\n",
       "\n",
       "    .dataframe tbody tr th {\n",
       "        vertical-align: top;\n",
       "    }\n",
       "\n",
       "    .dataframe thead th {\n",
       "        text-align: right;\n",
       "    }\n",
       "</style>\n",
       "<table border=\"1\" class=\"dataframe\">\n",
       "  <thead>\n",
       "    <tr style=\"text-align: right;\">\n",
       "      <th></th>\n",
       "      <th>PassengerId</th>\n",
       "      <th>Survived</th>\n",
       "      <th>Pclass</th>\n",
       "      <th>Age</th>\n",
       "      <th>SibSp</th>\n",
       "      <th>Parch</th>\n",
       "      <th>Fare</th>\n",
       "    </tr>\n",
       "  </thead>\n",
       "  <tbody>\n",
       "    <tr>\n",
       "      <th>count</th>\n",
       "      <td>891.000000</td>\n",
       "      <td>891.000000</td>\n",
       "      <td>891.000000</td>\n",
       "      <td>714.000000</td>\n",
       "      <td>891.000000</td>\n",
       "      <td>891.000000</td>\n",
       "      <td>891.000000</td>\n",
       "    </tr>\n",
       "    <tr>\n",
       "      <th>mean</th>\n",
       "      <td>446.000000</td>\n",
       "      <td>0.383838</td>\n",
       "      <td>2.308642</td>\n",
       "      <td>29.699118</td>\n",
       "      <td>0.523008</td>\n",
       "      <td>0.381594</td>\n",
       "      <td>32.204208</td>\n",
       "    </tr>\n",
       "    <tr>\n",
       "      <th>std</th>\n",
       "      <td>257.353842</td>\n",
       "      <td>0.486592</td>\n",
       "      <td>0.836071</td>\n",
       "      <td>14.526497</td>\n",
       "      <td>1.102743</td>\n",
       "      <td>0.806057</td>\n",
       "      <td>49.693429</td>\n",
       "    </tr>\n",
       "    <tr>\n",
       "      <th>min</th>\n",
       "      <td>1.000000</td>\n",
       "      <td>0.000000</td>\n",
       "      <td>1.000000</td>\n",
       "      <td>0.420000</td>\n",
       "      <td>0.000000</td>\n",
       "      <td>0.000000</td>\n",
       "      <td>0.000000</td>\n",
       "    </tr>\n",
       "    <tr>\n",
       "      <th>25%</th>\n",
       "      <td>223.500000</td>\n",
       "      <td>0.000000</td>\n",
       "      <td>2.000000</td>\n",
       "      <td>20.125000</td>\n",
       "      <td>0.000000</td>\n",
       "      <td>0.000000</td>\n",
       "      <td>7.910400</td>\n",
       "    </tr>\n",
       "    <tr>\n",
       "      <th>50%</th>\n",
       "      <td>446.000000</td>\n",
       "      <td>0.000000</td>\n",
       "      <td>3.000000</td>\n",
       "      <td>28.000000</td>\n",
       "      <td>0.000000</td>\n",
       "      <td>0.000000</td>\n",
       "      <td>14.454200</td>\n",
       "    </tr>\n",
       "    <tr>\n",
       "      <th>75%</th>\n",
       "      <td>668.500000</td>\n",
       "      <td>1.000000</td>\n",
       "      <td>3.000000</td>\n",
       "      <td>38.000000</td>\n",
       "      <td>1.000000</td>\n",
       "      <td>0.000000</td>\n",
       "      <td>31.000000</td>\n",
       "    </tr>\n",
       "    <tr>\n",
       "      <th>max</th>\n",
       "      <td>891.000000</td>\n",
       "      <td>1.000000</td>\n",
       "      <td>3.000000</td>\n",
       "      <td>80.000000</td>\n",
       "      <td>8.000000</td>\n",
       "      <td>6.000000</td>\n",
       "      <td>512.329200</td>\n",
       "    </tr>\n",
       "  </tbody>\n",
       "</table>\n",
       "</div>"
      ],
      "text/plain": [
       "       PassengerId    Survived      Pclass         Age       SibSp  \\\n",
       "count   891.000000  891.000000  891.000000  714.000000  891.000000   \n",
       "mean    446.000000    0.383838    2.308642   29.699118    0.523008   \n",
       "std     257.353842    0.486592    0.836071   14.526497    1.102743   \n",
       "min       1.000000    0.000000    1.000000    0.420000    0.000000   \n",
       "25%     223.500000    0.000000    2.000000   20.125000    0.000000   \n",
       "50%     446.000000    0.000000    3.000000   28.000000    0.000000   \n",
       "75%     668.500000    1.000000    3.000000   38.000000    1.000000   \n",
       "max     891.000000    1.000000    3.000000   80.000000    8.000000   \n",
       "\n",
       "            Parch        Fare  \n",
       "count  891.000000  891.000000  \n",
       "mean     0.381594   32.204208  \n",
       "std      0.806057   49.693429  \n",
       "min      0.000000    0.000000  \n",
       "25%      0.000000    7.910400  \n",
       "50%      0.000000   14.454200  \n",
       "75%      0.000000   31.000000  \n",
       "max      6.000000  512.329200  "
      ]
     },
     "execution_count": 11,
     "metadata": {},
     "output_type": "execute_result"
    }
   ],
   "source": [
    "data.describe()"
   ]
  },
  {
   "cell_type": "code",
   "execution_count": 12,
   "id": "dc950b4c",
   "metadata": {
    "execution": {
     "iopub.execute_input": "2025-07-01T11:20:38.331309Z",
     "iopub.status.busy": "2025-07-01T11:20:38.330978Z",
     "iopub.status.idle": "2025-07-01T11:20:38.336629Z",
     "shell.execute_reply": "2025-07-01T11:20:38.335709Z"
    },
    "papermill": {
     "duration": 0.015316,
     "end_time": "2025-07-01T11:20:38.337925",
     "exception": false,
     "start_time": "2025-07-01T11:20:38.322609",
     "status": "completed"
    },
    "tags": []
   },
   "outputs": [],
   "source": [
    "data['Age']=data['Age'].fillna(data['Age'].mean())"
   ]
  },
  {
   "cell_type": "code",
   "execution_count": 13,
   "id": "913ed45f",
   "metadata": {
    "execution": {
     "iopub.execute_input": "2025-07-01T11:20:38.354684Z",
     "iopub.status.busy": "2025-07-01T11:20:38.354032Z",
     "iopub.status.idle": "2025-07-01T11:20:38.360160Z",
     "shell.execute_reply": "2025-07-01T11:20:38.359274Z"
    },
    "papermill": {
     "duration": 0.016054,
     "end_time": "2025-07-01T11:20:38.361613",
     "exception": false,
     "start_time": "2025-07-01T11:20:38.345559",
     "status": "completed"
    },
    "tags": []
   },
   "outputs": [
    {
     "data": {
      "text/plain": [
       "0"
      ]
     },
     "execution_count": 13,
     "metadata": {},
     "output_type": "execute_result"
    }
   ],
   "source": [
    "data['Age'].isnull().sum()"
   ]
  },
  {
   "cell_type": "code",
   "execution_count": 14,
   "id": "3ee2d408",
   "metadata": {
    "execution": {
     "iopub.execute_input": "2025-07-01T11:20:38.379004Z",
     "iopub.status.busy": "2025-07-01T11:20:38.378266Z",
     "iopub.status.idle": "2025-07-01T11:20:38.389087Z",
     "shell.execute_reply": "2025-07-01T11:20:38.388240Z"
    },
    "papermill": {
     "duration": 0.021125,
     "end_time": "2025-07-01T11:20:38.390416",
     "exception": false,
     "start_time": "2025-07-01T11:20:38.369291",
     "status": "completed"
    },
    "tags": []
   },
   "outputs": [
    {
     "name": "stdout",
     "output_type": "stream",
     "text": [
      "<class 'pandas.core.frame.DataFrame'>\n",
      "RangeIndex: 891 entries, 0 to 890\n",
      "Data columns (total 12 columns):\n",
      " #   Column       Non-Null Count  Dtype  \n",
      "---  ------       --------------  -----  \n",
      " 0   PassengerId  891 non-null    int64  \n",
      " 1   Survived     891 non-null    int64  \n",
      " 2   Pclass       891 non-null    int64  \n",
      " 3   Age          891 non-null    float64\n",
      " 4   SibSp        891 non-null    int64  \n",
      " 5   Parch        891 non-null    int64  \n",
      " 6   Ticket       891 non-null    object \n",
      " 7   Fare         891 non-null    float64\n",
      " 8   Cabin        204 non-null    object \n",
      " 9   Embarked     889 non-null    object \n",
      " 10  Sex_female   891 non-null    bool   \n",
      " 11  Sex_male     891 non-null    bool   \n",
      "dtypes: bool(2), float64(2), int64(5), object(3)\n",
      "memory usage: 71.5+ KB\n"
     ]
    }
   ],
   "source": [
    "data.info()"
   ]
  },
  {
   "cell_type": "code",
   "execution_count": 15,
   "id": "0b95c95d",
   "metadata": {
    "execution": {
     "iopub.execute_input": "2025-07-01T11:20:38.408390Z",
     "iopub.status.busy": "2025-07-01T11:20:38.408070Z",
     "iopub.status.idle": "2025-07-01T11:20:38.414165Z",
     "shell.execute_reply": "2025-07-01T11:20:38.413443Z"
    },
    "papermill": {
     "duration": 0.016467,
     "end_time": "2025-07-01T11:20:38.415602",
     "exception": false,
     "start_time": "2025-07-01T11:20:38.399135",
     "status": "completed"
    },
    "tags": []
   },
   "outputs": [],
   "source": [
    "data=data.drop(columns='SibSp')\n"
   ]
  },
  {
   "cell_type": "code",
   "execution_count": null,
   "id": "0cc1bd27",
   "metadata": {
    "papermill": {
     "duration": 0.007351,
     "end_time": "2025-07-01T11:20:38.430905",
     "exception": false,
     "start_time": "2025-07-01T11:20:38.423554",
     "status": "completed"
    },
    "tags": []
   },
   "outputs": [],
   "source": []
  },
  {
   "cell_type": "code",
   "execution_count": 16,
   "id": "2b69680e",
   "metadata": {
    "execution": {
     "iopub.execute_input": "2025-07-01T11:20:38.447480Z",
     "iopub.status.busy": "2025-07-01T11:20:38.446780Z",
     "iopub.status.idle": "2025-07-01T11:20:38.454330Z",
     "shell.execute_reply": "2025-07-01T11:20:38.453448Z"
    },
    "papermill": {
     "duration": 0.017235,
     "end_time": "2025-07-01T11:20:38.455737",
     "exception": false,
     "start_time": "2025-07-01T11:20:38.438502",
     "status": "completed"
    },
    "tags": []
   },
   "outputs": [
    {
     "data": {
      "text/plain": [
       "array([0, 1, 2, 5, 3, 4, 6])"
      ]
     },
     "execution_count": 16,
     "metadata": {},
     "output_type": "execute_result"
    }
   ],
   "source": [
    "data['Parch'].unique()"
   ]
  },
  {
   "cell_type": "code",
   "execution_count": 17,
   "id": "2cd2919c",
   "metadata": {
    "execution": {
     "iopub.execute_input": "2025-07-01T11:20:38.533751Z",
     "iopub.status.busy": "2025-07-01T11:20:38.533024Z",
     "iopub.status.idle": "2025-07-01T11:20:38.537829Z",
     "shell.execute_reply": "2025-07-01T11:20:38.537086Z"
    },
    "papermill": {
     "duration": 0.014744,
     "end_time": "2025-07-01T11:20:38.539077",
     "exception": false,
     "start_time": "2025-07-01T11:20:38.524333",
     "status": "completed"
    },
    "tags": []
   },
   "outputs": [],
   "source": [
    "data=data.drop(columns='Ticket')"
   ]
  },
  {
   "cell_type": "code",
   "execution_count": 18,
   "id": "6f2b37c0",
   "metadata": {
    "execution": {
     "iopub.execute_input": "2025-07-01T11:20:38.555815Z",
     "iopub.status.busy": "2025-07-01T11:20:38.555546Z",
     "iopub.status.idle": "2025-07-01T11:20:38.562719Z",
     "shell.execute_reply": "2025-07-01T11:20:38.562061Z"
    },
    "papermill": {
     "duration": 0.017089,
     "end_time": "2025-07-01T11:20:38.563995",
     "exception": false,
     "start_time": "2025-07-01T11:20:38.546906",
     "status": "completed"
    },
    "tags": []
   },
   "outputs": [
    {
     "data": {
      "text/plain": [
       "array([  7.25  ,  71.2833,   7.925 ,  53.1   ,   8.05  ,   8.4583,\n",
       "        51.8625,  21.075 ,  11.1333,  30.0708,  16.7   ,  26.55  ,\n",
       "        31.275 ,   7.8542,  16.    ,  29.125 ,  13.    ,  18.    ,\n",
       "         7.225 ,  26.    ,   8.0292,  35.5   ,  31.3875, 263.    ,\n",
       "         7.8792,   7.8958,  27.7208, 146.5208,   7.75  ,  10.5   ,\n",
       "        82.1708,  52.    ,   7.2292,  11.2417,   9.475 ,  21.    ,\n",
       "        41.5792,  15.5   ,  21.6792,  17.8   ,  39.6875,   7.8   ,\n",
       "        76.7292,  61.9792,  27.75  ,  46.9   ,  80.    ,  83.475 ,\n",
       "        27.9   ,  15.2458,   8.1583,   8.6625,  73.5   ,  14.4542,\n",
       "        56.4958,   7.65  ,  29.    ,  12.475 ,   9.    ,   9.5   ,\n",
       "         7.7875,  47.1   ,  15.85  ,  34.375 ,  61.175 ,  20.575 ,\n",
       "        34.6542,  63.3583,  23.    ,  77.2875,   8.6542,   7.775 ,\n",
       "        24.15  ,   9.825 ,  14.4583, 247.5208,   7.1417,  22.3583,\n",
       "         6.975 ,   7.05  ,  14.5   ,  15.0458,  26.2833,   9.2167,\n",
       "        79.2   ,   6.75  ,  11.5   ,  36.75  ,   7.7958,  12.525 ,\n",
       "        66.6   ,   7.3125,  61.3792,   7.7333,  69.55  ,  16.1   ,\n",
       "        15.75  ,  20.525 ,  55.    ,  25.925 ,  33.5   ,  30.6958,\n",
       "        25.4667,  28.7125,   0.    ,  15.05  ,  39.    ,  22.025 ,\n",
       "        50.    ,   8.4042,   6.4958,  10.4625,  18.7875,  31.    ,\n",
       "       113.275 ,  27.    ,  76.2917,  90.    ,   9.35  ,  13.5   ,\n",
       "         7.55  ,  26.25  ,  12.275 ,   7.125 ,  52.5542,  20.2125,\n",
       "        86.5   , 512.3292,  79.65  , 153.4625, 135.6333,  19.5   ,\n",
       "        29.7   ,  77.9583,  20.25  ,  78.85  ,  91.0792,  12.875 ,\n",
       "         8.85  , 151.55  ,  30.5   ,  23.25  ,  12.35  , 110.8833,\n",
       "       108.9   ,  24.    ,  56.9292,  83.1583, 262.375 ,  14.    ,\n",
       "       164.8667, 134.5   ,   6.2375,  57.9792,  28.5   , 133.65  ,\n",
       "        15.9   ,   9.225 ,  35.    ,  75.25  ,  69.3   ,  55.4417,\n",
       "       211.5   ,   4.0125, 227.525 ,  15.7417,   7.7292,  12.    ,\n",
       "       120.    ,  12.65  ,  18.75  ,   6.8583,  32.5   ,   7.875 ,\n",
       "        14.4   ,  55.9   ,   8.1125,  81.8583,  19.2583,  19.9667,\n",
       "        89.1042,  38.5   ,   7.725 ,  13.7917,   9.8375,   7.0458,\n",
       "         7.5208,  12.2875,   9.5875,  49.5042,  78.2667,  15.1   ,\n",
       "         7.6292,  22.525 ,  26.2875,  59.4   ,   7.4958,  34.0208,\n",
       "        93.5   , 221.7792, 106.425 ,  49.5   ,  71.    ,  13.8625,\n",
       "         7.8292,  39.6   ,  17.4   ,  51.4792,  26.3875,  30.    ,\n",
       "        40.125 ,   8.7125,  15.    ,  33.    ,  42.4   ,  15.55  ,\n",
       "        65.    ,  32.3208,   7.0542,   8.4333,  25.5875,   9.8417,\n",
       "         8.1375,  10.1708, 211.3375,  57.    ,  13.4167,   7.7417,\n",
       "         9.4833,   7.7375,   8.3625,  23.45  ,  25.9292,   8.6833,\n",
       "         8.5167,   7.8875,  37.0042,   6.45  ,   6.95  ,   8.3   ,\n",
       "         6.4375,  39.4   ,  14.1083,  13.8583,  50.4958,   5.    ,\n",
       "         9.8458,  10.5167])"
      ]
     },
     "execution_count": 18,
     "metadata": {},
     "output_type": "execute_result"
    }
   ],
   "source": [
    "data['Fare'].unique()"
   ]
  },
  {
   "cell_type": "code",
   "execution_count": 19,
   "id": "528295a9",
   "metadata": {
    "execution": {
     "iopub.execute_input": "2025-07-01T11:20:38.581639Z",
     "iopub.status.busy": "2025-07-01T11:20:38.580797Z",
     "iopub.status.idle": "2025-07-01T11:20:38.587346Z",
     "shell.execute_reply": "2025-07-01T11:20:38.586539Z"
    },
    "papermill": {
     "duration": 0.016732,
     "end_time": "2025-07-01T11:20:38.588744",
     "exception": false,
     "start_time": "2025-07-01T11:20:38.572012",
     "status": "completed"
    },
    "tags": []
   },
   "outputs": [
    {
     "data": {
      "text/plain": [
       "array([nan, 'C85', 'C123', 'E46', 'G6', 'C103', 'D56', 'A6',\n",
       "       'C23 C25 C27', 'B78', 'D33', 'B30', 'C52', 'B28', 'C83', 'F33',\n",
       "       'F G73', 'E31', 'A5', 'D10 D12', 'D26', 'C110', 'B58 B60', 'E101',\n",
       "       'F E69', 'D47', 'B86', 'F2', 'C2', 'E33', 'B19', 'A7', 'C49', 'F4',\n",
       "       'A32', 'B4', 'B80', 'A31', 'D36', 'D15', 'C93', 'C78', 'D35',\n",
       "       'C87', 'B77', 'E67', 'B94', 'C125', 'C99', 'C118', 'D7', 'A19',\n",
       "       'B49', 'D', 'C22 C26', 'C106', 'C65', 'E36', 'C54',\n",
       "       'B57 B59 B63 B66', 'C7', 'E34', 'C32', 'B18', 'C124', 'C91', 'E40',\n",
       "       'T', 'C128', 'D37', 'B35', 'E50', 'C82', 'B96 B98', 'E10', 'E44',\n",
       "       'A34', 'C104', 'C111', 'C92', 'E38', 'D21', 'E12', 'E63', 'A14',\n",
       "       'B37', 'C30', 'D20', 'B79', 'E25', 'D46', 'B73', 'C95', 'B38',\n",
       "       'B39', 'B22', 'C86', 'C70', 'A16', 'C101', 'C68', 'A10', 'E68',\n",
       "       'B41', 'A20', 'D19', 'D50', 'D9', 'A23', 'B50', 'A26', 'D48',\n",
       "       'E58', 'C126', 'B71', 'B51 B53 B55', 'D49', 'B5', 'B20', 'F G63',\n",
       "       'C62 C64', 'E24', 'C90', 'C45', 'E8', 'B101', 'D45', 'C46', 'D30',\n",
       "       'E121', 'D11', 'E77', 'F38', 'B3', 'D6', 'B82 B84', 'D17', 'A36',\n",
       "       'B102', 'B69', 'E49', 'C47', 'D28', 'E17', 'A24', 'C50', 'B42',\n",
       "       'C148'], dtype=object)"
      ]
     },
     "execution_count": 19,
     "metadata": {},
     "output_type": "execute_result"
    }
   ],
   "source": [
    "data['Cabin'].unique()"
   ]
  },
  {
   "cell_type": "code",
   "execution_count": 20,
   "id": "fe87290b",
   "metadata": {
    "execution": {
     "iopub.execute_input": "2025-07-01T11:20:38.606458Z",
     "iopub.status.busy": "2025-07-01T11:20:38.606104Z",
     "iopub.status.idle": "2025-07-01T11:20:38.613039Z",
     "shell.execute_reply": "2025-07-01T11:20:38.611808Z"
    },
    "papermill": {
     "duration": 0.018123,
     "end_time": "2025-07-01T11:20:38.615096",
     "exception": false,
     "start_time": "2025-07-01T11:20:38.596973",
     "status": "completed"
    },
    "tags": []
   },
   "outputs": [],
   "source": [
    "data['Cabin_initial'] = data['Cabin'].astype(str).str[0]"
   ]
  },
  {
   "cell_type": "code",
   "execution_count": 21,
   "id": "c3a1037f",
   "metadata": {
    "execution": {
     "iopub.execute_input": "2025-07-01T11:20:38.633954Z",
     "iopub.status.busy": "2025-07-01T11:20:38.633154Z",
     "iopub.status.idle": "2025-07-01T11:20:38.644140Z",
     "shell.execute_reply": "2025-07-01T11:20:38.643200Z"
    },
    "papermill": {
     "duration": 0.021682,
     "end_time": "2025-07-01T11:20:38.645543",
     "exception": false,
     "start_time": "2025-07-01T11:20:38.623861",
     "status": "completed"
    },
    "tags": []
   },
   "outputs": [
    {
     "name": "stdout",
     "output_type": "stream",
     "text": [
      "<class 'pandas.core.frame.DataFrame'>\n",
      "RangeIndex: 891 entries, 0 to 890\n",
      "Data columns (total 11 columns):\n",
      " #   Column         Non-Null Count  Dtype  \n",
      "---  ------         --------------  -----  \n",
      " 0   PassengerId    891 non-null    int64  \n",
      " 1   Survived       891 non-null    int64  \n",
      " 2   Pclass         891 non-null    int64  \n",
      " 3   Age            891 non-null    float64\n",
      " 4   Parch          891 non-null    int64  \n",
      " 5   Fare           891 non-null    float64\n",
      " 6   Cabin          204 non-null    object \n",
      " 7   Embarked       889 non-null    object \n",
      " 8   Sex_female     891 non-null    bool   \n",
      " 9   Sex_male       891 non-null    bool   \n",
      " 10  Cabin_initial  891 non-null    object \n",
      "dtypes: bool(2), float64(2), int64(4), object(3)\n",
      "memory usage: 64.5+ KB\n"
     ]
    }
   ],
   "source": [
    "data.info()"
   ]
  },
  {
   "cell_type": "code",
   "execution_count": 22,
   "id": "bf37b897",
   "metadata": {
    "execution": {
     "iopub.execute_input": "2025-07-01T11:20:38.663087Z",
     "iopub.status.busy": "2025-07-01T11:20:38.662568Z",
     "iopub.status.idle": "2025-07-01T11:20:38.667891Z",
     "shell.execute_reply": "2025-07-01T11:20:38.667263Z"
    },
    "papermill": {
     "duration": 0.015282,
     "end_time": "2025-07-01T11:20:38.669084",
     "exception": false,
     "start_time": "2025-07-01T11:20:38.653802",
     "status": "completed"
    },
    "tags": []
   },
   "outputs": [
    {
     "data": {
      "text/plain": [
       "array(['n', 'C', 'E', 'G', 'D', 'A', 'B', 'F', 'T'], dtype=object)"
      ]
     },
     "execution_count": 22,
     "metadata": {},
     "output_type": "execute_result"
    }
   ],
   "source": [
    "data['Cabin_initial'].unique()"
   ]
  },
  {
   "cell_type": "code",
   "execution_count": 23,
   "id": "05bc7303",
   "metadata": {
    "execution": {
     "iopub.execute_input": "2025-07-01T11:20:38.686595Z",
     "iopub.status.busy": "2025-07-01T11:20:38.686107Z",
     "iopub.status.idle": "2025-07-01T11:20:38.693150Z",
     "shell.execute_reply": "2025-07-01T11:20:38.692480Z"
    },
    "papermill": {
     "duration": 0.017218,
     "end_time": "2025-07-01T11:20:38.694472",
     "exception": false,
     "start_time": "2025-07-01T11:20:38.677254",
     "status": "completed"
    },
    "tags": []
   },
   "outputs": [],
   "source": [
    "data=pd.get_dummies(data,columns=['Cabin_initial'])"
   ]
  },
  {
   "cell_type": "code",
   "execution_count": 24,
   "id": "7b8f1b82",
   "metadata": {
    "execution": {
     "iopub.execute_input": "2025-07-01T11:20:38.711859Z",
     "iopub.status.busy": "2025-07-01T11:20:38.711542Z",
     "iopub.status.idle": "2025-07-01T11:20:38.721885Z",
     "shell.execute_reply": "2025-07-01T11:20:38.720845Z"
    },
    "papermill": {
     "duration": 0.020728,
     "end_time": "2025-07-01T11:20:38.723332",
     "exception": false,
     "start_time": "2025-07-01T11:20:38.702604",
     "status": "completed"
    },
    "tags": []
   },
   "outputs": [
    {
     "name": "stdout",
     "output_type": "stream",
     "text": [
      "<class 'pandas.core.frame.DataFrame'>\n",
      "RangeIndex: 891 entries, 0 to 890\n",
      "Data columns (total 19 columns):\n",
      " #   Column           Non-Null Count  Dtype  \n",
      "---  ------           --------------  -----  \n",
      " 0   PassengerId      891 non-null    int64  \n",
      " 1   Survived         891 non-null    int64  \n",
      " 2   Pclass           891 non-null    int64  \n",
      " 3   Age              891 non-null    float64\n",
      " 4   Parch            891 non-null    int64  \n",
      " 5   Fare             891 non-null    float64\n",
      " 6   Cabin            204 non-null    object \n",
      " 7   Embarked         889 non-null    object \n",
      " 8   Sex_female       891 non-null    bool   \n",
      " 9   Sex_male         891 non-null    bool   \n",
      " 10  Cabin_initial_A  891 non-null    bool   \n",
      " 11  Cabin_initial_B  891 non-null    bool   \n",
      " 12  Cabin_initial_C  891 non-null    bool   \n",
      " 13  Cabin_initial_D  891 non-null    bool   \n",
      " 14  Cabin_initial_E  891 non-null    bool   \n",
      " 15  Cabin_initial_F  891 non-null    bool   \n",
      " 16  Cabin_initial_G  891 non-null    bool   \n",
      " 17  Cabin_initial_T  891 non-null    bool   \n",
      " 18  Cabin_initial_n  891 non-null    bool   \n",
      "dtypes: bool(11), float64(2), int64(4), object(2)\n",
      "memory usage: 65.4+ KB\n"
     ]
    }
   ],
   "source": [
    "data.info()"
   ]
  },
  {
   "cell_type": "code",
   "execution_count": 25,
   "id": "bfa4cbf0",
   "metadata": {
    "execution": {
     "iopub.execute_input": "2025-07-01T11:20:38.741565Z",
     "iopub.status.busy": "2025-07-01T11:20:38.741279Z",
     "iopub.status.idle": "2025-07-01T11:20:38.746370Z",
     "shell.execute_reply": "2025-07-01T11:20:38.745479Z"
    },
    "papermill": {
     "duration": 0.016013,
     "end_time": "2025-07-01T11:20:38.747842",
     "exception": false,
     "start_time": "2025-07-01T11:20:38.731829",
     "status": "completed"
    },
    "tags": []
   },
   "outputs": [],
   "source": [
    "data=data.drop(columns='Cabin')"
   ]
  },
  {
   "cell_type": "code",
   "execution_count": 26,
   "id": "f31ce065",
   "metadata": {
    "execution": {
     "iopub.execute_input": "2025-07-01T11:20:38.765999Z",
     "iopub.status.busy": "2025-07-01T11:20:38.765695Z",
     "iopub.status.idle": "2025-07-01T11:20:38.771051Z",
     "shell.execute_reply": "2025-07-01T11:20:38.770417Z"
    },
    "papermill": {
     "duration": 0.016249,
     "end_time": "2025-07-01T11:20:38.772391",
     "exception": false,
     "start_time": "2025-07-01T11:20:38.756142",
     "status": "completed"
    },
    "tags": []
   },
   "outputs": [
    {
     "data": {
      "text/plain": [
       "array(['S', 'C', 'Q', nan], dtype=object)"
      ]
     },
     "execution_count": 26,
     "metadata": {},
     "output_type": "execute_result"
    }
   ],
   "source": [
    "data['Embarked'].unique()"
   ]
  },
  {
   "cell_type": "code",
   "execution_count": 27,
   "id": "657e91f3",
   "metadata": {
    "execution": {
     "iopub.execute_input": "2025-07-01T11:20:38.790875Z",
     "iopub.status.busy": "2025-07-01T11:20:38.790142Z",
     "iopub.status.idle": "2025-07-01T11:20:38.795646Z",
     "shell.execute_reply": "2025-07-01T11:20:38.794992Z"
    },
    "papermill": {
     "duration": 0.01616,
     "end_time": "2025-07-01T11:20:38.796843",
     "exception": false,
     "start_time": "2025-07-01T11:20:38.780683",
     "status": "completed"
    },
    "tags": []
   },
   "outputs": [
    {
     "data": {
      "text/plain": [
       "2"
      ]
     },
     "execution_count": 27,
     "metadata": {},
     "output_type": "execute_result"
    }
   ],
   "source": [
    "data['Embarked'].isnull().sum()"
   ]
  },
  {
   "cell_type": "code",
   "execution_count": 28,
   "id": "1213d3ac",
   "metadata": {
    "execution": {
     "iopub.execute_input": "2025-07-01T11:20:38.815507Z",
     "iopub.status.busy": "2025-07-01T11:20:38.814896Z",
     "iopub.status.idle": "2025-07-01T11:20:38.821759Z",
     "shell.execute_reply": "2025-07-01T11:20:38.820960Z"
    },
    "papermill": {
     "duration": 0.017417,
     "end_time": "2025-07-01T11:20:38.823050",
     "exception": false,
     "start_time": "2025-07-01T11:20:38.805633",
     "status": "completed"
    },
    "tags": []
   },
   "outputs": [],
   "source": [
    "data.dropna(subset='Embarked',inplace=True)"
   ]
  },
  {
   "cell_type": "code",
   "execution_count": 29,
   "id": "3ccab51a",
   "metadata": {
    "execution": {
     "iopub.execute_input": "2025-07-01T11:20:38.841080Z",
     "iopub.status.busy": "2025-07-01T11:20:38.840751Z",
     "iopub.status.idle": "2025-07-01T11:20:38.848804Z",
     "shell.execute_reply": "2025-07-01T11:20:38.847985Z"
    },
    "papermill": {
     "duration": 0.018618,
     "end_time": "2025-07-01T11:20:38.850122",
     "exception": false,
     "start_time": "2025-07-01T11:20:38.831504",
     "status": "completed"
    },
    "tags": []
   },
   "outputs": [],
   "source": [
    "data=pd.get_dummies(data,columns=['Embarked'])"
   ]
  },
  {
   "cell_type": "code",
   "execution_count": 30,
   "id": "6ecb0558",
   "metadata": {
    "execution": {
     "iopub.execute_input": "2025-07-01T11:20:38.867902Z",
     "iopub.status.busy": "2025-07-01T11:20:38.867586Z",
     "iopub.status.idle": "2025-07-01T11:20:38.877710Z",
     "shell.execute_reply": "2025-07-01T11:20:38.876775Z"
    },
    "papermill": {
     "duration": 0.020454,
     "end_time": "2025-07-01T11:20:38.879026",
     "exception": false,
     "start_time": "2025-07-01T11:20:38.858572",
     "status": "completed"
    },
    "tags": []
   },
   "outputs": [
    {
     "name": "stdout",
     "output_type": "stream",
     "text": [
      "<class 'pandas.core.frame.DataFrame'>\n",
      "Index: 889 entries, 0 to 890\n",
      "Data columns (total 20 columns):\n",
      " #   Column           Non-Null Count  Dtype  \n",
      "---  ------           --------------  -----  \n",
      " 0   PassengerId      889 non-null    int64  \n",
      " 1   Survived         889 non-null    int64  \n",
      " 2   Pclass           889 non-null    int64  \n",
      " 3   Age              889 non-null    float64\n",
      " 4   Parch            889 non-null    int64  \n",
      " 5   Fare             889 non-null    float64\n",
      " 6   Sex_female       889 non-null    bool   \n",
      " 7   Sex_male         889 non-null    bool   \n",
      " 8   Cabin_initial_A  889 non-null    bool   \n",
      " 9   Cabin_initial_B  889 non-null    bool   \n",
      " 10  Cabin_initial_C  889 non-null    bool   \n",
      " 11  Cabin_initial_D  889 non-null    bool   \n",
      " 12  Cabin_initial_E  889 non-null    bool   \n",
      " 13  Cabin_initial_F  889 non-null    bool   \n",
      " 14  Cabin_initial_G  889 non-null    bool   \n",
      " 15  Cabin_initial_T  889 non-null    bool   \n",
      " 16  Cabin_initial_n  889 non-null    bool   \n",
      " 17  Embarked_C       889 non-null    bool   \n",
      " 18  Embarked_Q       889 non-null    bool   \n",
      " 19  Embarked_S       889 non-null    bool   \n",
      "dtypes: bool(14), float64(2), int64(4)\n",
      "memory usage: 60.8 KB\n"
     ]
    }
   ],
   "source": [
    "data.info()"
   ]
  },
  {
   "cell_type": "code",
   "execution_count": 31,
   "id": "6fedacb6",
   "metadata": {
    "execution": {
     "iopub.execute_input": "2025-07-01T11:20:38.897669Z",
     "iopub.status.busy": "2025-07-01T11:20:38.897376Z",
     "iopub.status.idle": "2025-07-01T11:20:38.904192Z",
     "shell.execute_reply": "2025-07-01T11:20:38.903533Z"
    },
    "papermill": {
     "duration": 0.017605,
     "end_time": "2025-07-01T11:20:38.905428",
     "exception": false,
     "start_time": "2025-07-01T11:20:38.887823",
     "status": "completed"
    },
    "tags": []
   },
   "outputs": [
    {
     "data": {
      "text/plain": [
       "PassengerId        0\n",
       "Survived           0\n",
       "Pclass             0\n",
       "Age                0\n",
       "Parch              0\n",
       "Fare               0\n",
       "Sex_female         0\n",
       "Sex_male           0\n",
       "Cabin_initial_A    0\n",
       "Cabin_initial_B    0\n",
       "Cabin_initial_C    0\n",
       "Cabin_initial_D    0\n",
       "Cabin_initial_E    0\n",
       "Cabin_initial_F    0\n",
       "Cabin_initial_G    0\n",
       "Cabin_initial_T    0\n",
       "Cabin_initial_n    0\n",
       "Embarked_C         0\n",
       "Embarked_Q         0\n",
       "Embarked_S         0\n",
       "dtype: int64"
      ]
     },
     "execution_count": 31,
     "metadata": {},
     "output_type": "execute_result"
    }
   ],
   "source": [
    "data.isnull().sum()"
   ]
  },
  {
   "cell_type": "code",
   "execution_count": null,
   "id": "8fd9d53c",
   "metadata": {
    "papermill": {
     "duration": 0.008313,
     "end_time": "2025-07-01T11:20:38.922421",
     "exception": false,
     "start_time": "2025-07-01T11:20:38.914108",
     "status": "completed"
    },
    "tags": []
   },
   "outputs": [],
   "source": []
  },
  {
   "cell_type": "code",
   "execution_count": null,
   "id": "28729452",
   "metadata": {
    "papermill": {
     "duration": 0.008109,
     "end_time": "2025-07-01T11:20:38.938830",
     "exception": false,
     "start_time": "2025-07-01T11:20:38.930721",
     "status": "completed"
    },
    "tags": []
   },
   "outputs": [],
   "source": []
  },
  {
   "cell_type": "code",
   "execution_count": 32,
   "id": "3e22bd75",
   "metadata": {
    "execution": {
     "iopub.execute_input": "2025-07-01T11:20:38.957088Z",
     "iopub.status.busy": "2025-07-01T11:20:38.956761Z",
     "iopub.status.idle": "2025-07-01T11:20:38.964072Z",
     "shell.execute_reply": "2025-07-01T11:20:38.963306Z"
    },
    "papermill": {
     "duration": 0.018173,
     "end_time": "2025-07-01T11:20:38.965496",
     "exception": false,
     "start_time": "2025-07-01T11:20:38.947323",
     "status": "completed"
    },
    "tags": []
   },
   "outputs": [
    {
     "data": {
      "text/plain": [
       "0"
      ]
     },
     "execution_count": 32,
     "metadata": {},
     "output_type": "execute_result"
    }
   ],
   "source": [
    "data.duplicated().sum()"
   ]
  },
  {
   "cell_type": "code",
   "execution_count": 33,
   "id": "bf986881",
   "metadata": {
    "execution": {
     "iopub.execute_input": "2025-07-01T11:20:38.983698Z",
     "iopub.status.busy": "2025-07-01T11:20:38.983421Z",
     "iopub.status.idle": "2025-07-01T11:20:38.989873Z",
     "shell.execute_reply": "2025-07-01T11:20:38.989210Z"
    },
    "papermill": {
     "duration": 0.0171,
     "end_time": "2025-07-01T11:20:38.991220",
     "exception": false,
     "start_time": "2025-07-01T11:20:38.974120",
     "status": "completed"
    },
    "tags": []
   },
   "outputs": [],
   "source": [
    "data.drop_duplicates(inplace=True)"
   ]
  },
  {
   "cell_type": "code",
   "execution_count": 34,
   "id": "91271ac5",
   "metadata": {
    "execution": {
     "iopub.execute_input": "2025-07-01T11:20:39.009886Z",
     "iopub.status.busy": "2025-07-01T11:20:39.009251Z",
     "iopub.status.idle": "2025-07-01T11:20:39.014467Z",
     "shell.execute_reply": "2025-07-01T11:20:39.013504Z"
    },
    "papermill": {
     "duration": 0.016157,
     "end_time": "2025-07-01T11:20:39.015971",
     "exception": false,
     "start_time": "2025-07-01T11:20:38.999814",
     "status": "completed"
    },
    "tags": []
   },
   "outputs": [],
   "source": [
    "x=data.drop(columns='Survived')\n",
    "y=data['Survived']"
   ]
  },
  {
   "cell_type": "code",
   "execution_count": 35,
   "id": "e0842e6f",
   "metadata": {
    "execution": {
     "iopub.execute_input": "2025-07-01T11:20:39.034920Z",
     "iopub.status.busy": "2025-07-01T11:20:39.034157Z",
     "iopub.status.idle": "2025-07-01T11:20:39.040003Z",
     "shell.execute_reply": "2025-07-01T11:20:39.039231Z"
    },
    "papermill": {
     "duration": 0.01668,
     "end_time": "2025-07-01T11:20:39.041348",
     "exception": false,
     "start_time": "2025-07-01T11:20:39.024668",
     "status": "completed"
    },
    "tags": []
   },
   "outputs": [],
   "source": [
    "x_train,x_test,y_train,y_test=train_test_split(x,y,test_size=.2)"
   ]
  },
  {
   "cell_type": "code",
   "execution_count": 36,
   "id": "1fd09643",
   "metadata": {
    "execution": {
     "iopub.execute_input": "2025-07-01T11:20:39.060152Z",
     "iopub.status.busy": "2025-07-01T11:20:39.059326Z",
     "iopub.status.idle": "2025-07-01T11:20:39.483211Z",
     "shell.execute_reply": "2025-07-01T11:20:39.480928Z"
    },
    "papermill": {
     "duration": 0.434903,
     "end_time": "2025-07-01T11:20:39.484986",
     "exception": false,
     "start_time": "2025-07-01T11:20:39.050083",
     "status": "completed"
    },
    "tags": []
   },
   "outputs": [
    {
     "name": "stderr",
     "output_type": "stream",
     "text": [
      "/usr/local/lib/python3.11/dist-packages/sklearn/linear_model/_logistic.py:458: ConvergenceWarning: lbfgs failed to converge (status=1):\n",
      "STOP: TOTAL NO. OF ITERATIONS REACHED LIMIT.\n",
      "\n",
      "Increase the number of iterations (max_iter) or scale the data as shown in:\n",
      "    https://scikit-learn.org/stable/modules/preprocessing.html\n",
      "Please also refer to the documentation for alternative solver options:\n",
      "    https://scikit-learn.org/stable/modules/linear_model.html#logistic-regression\n",
      "  n_iter_i = _check_optimize_result(\n"
     ]
    },
    {
     "data": {
      "text/html": [
       "<style>#sk-container-id-1 {color: black;background-color: white;}#sk-container-id-1 pre{padding: 0;}#sk-container-id-1 div.sk-toggleable {background-color: white;}#sk-container-id-1 label.sk-toggleable__label {cursor: pointer;display: block;width: 100%;margin-bottom: 0;padding: 0.3em;box-sizing: border-box;text-align: center;}#sk-container-id-1 label.sk-toggleable__label-arrow:before {content: \"▸\";float: left;margin-right: 0.25em;color: #696969;}#sk-container-id-1 label.sk-toggleable__label-arrow:hover:before {color: black;}#sk-container-id-1 div.sk-estimator:hover label.sk-toggleable__label-arrow:before {color: black;}#sk-container-id-1 div.sk-toggleable__content {max-height: 0;max-width: 0;overflow: hidden;text-align: left;background-color: #f0f8ff;}#sk-container-id-1 div.sk-toggleable__content pre {margin: 0.2em;color: black;border-radius: 0.25em;background-color: #f0f8ff;}#sk-container-id-1 input.sk-toggleable__control:checked~div.sk-toggleable__content {max-height: 200px;max-width: 100%;overflow: auto;}#sk-container-id-1 input.sk-toggleable__control:checked~label.sk-toggleable__label-arrow:before {content: \"▾\";}#sk-container-id-1 div.sk-estimator input.sk-toggleable__control:checked~label.sk-toggleable__label {background-color: #d4ebff;}#sk-container-id-1 div.sk-label input.sk-toggleable__control:checked~label.sk-toggleable__label {background-color: #d4ebff;}#sk-container-id-1 input.sk-hidden--visually {border: 0;clip: rect(1px 1px 1px 1px);clip: rect(1px, 1px, 1px, 1px);height: 1px;margin: -1px;overflow: hidden;padding: 0;position: absolute;width: 1px;}#sk-container-id-1 div.sk-estimator {font-family: monospace;background-color: #f0f8ff;border: 1px dotted black;border-radius: 0.25em;box-sizing: border-box;margin-bottom: 0.5em;}#sk-container-id-1 div.sk-estimator:hover {background-color: #d4ebff;}#sk-container-id-1 div.sk-parallel-item::after {content: \"\";width: 100%;border-bottom: 1px solid gray;flex-grow: 1;}#sk-container-id-1 div.sk-label:hover label.sk-toggleable__label {background-color: #d4ebff;}#sk-container-id-1 div.sk-serial::before {content: \"\";position: absolute;border-left: 1px solid gray;box-sizing: border-box;top: 0;bottom: 0;left: 50%;z-index: 0;}#sk-container-id-1 div.sk-serial {display: flex;flex-direction: column;align-items: center;background-color: white;padding-right: 0.2em;padding-left: 0.2em;position: relative;}#sk-container-id-1 div.sk-item {position: relative;z-index: 1;}#sk-container-id-1 div.sk-parallel {display: flex;align-items: stretch;justify-content: center;background-color: white;position: relative;}#sk-container-id-1 div.sk-item::before, #sk-container-id-1 div.sk-parallel-item::before {content: \"\";position: absolute;border-left: 1px solid gray;box-sizing: border-box;top: 0;bottom: 0;left: 50%;z-index: -1;}#sk-container-id-1 div.sk-parallel-item {display: flex;flex-direction: column;z-index: 1;position: relative;background-color: white;}#sk-container-id-1 div.sk-parallel-item:first-child::after {align-self: flex-end;width: 50%;}#sk-container-id-1 div.sk-parallel-item:last-child::after {align-self: flex-start;width: 50%;}#sk-container-id-1 div.sk-parallel-item:only-child::after {width: 0;}#sk-container-id-1 div.sk-dashed-wrapped {border: 1px dashed gray;margin: 0 0.4em 0.5em 0.4em;box-sizing: border-box;padding-bottom: 0.4em;background-color: white;}#sk-container-id-1 div.sk-label label {font-family: monospace;font-weight: bold;display: inline-block;line-height: 1.2em;}#sk-container-id-1 div.sk-label-container {text-align: center;}#sk-container-id-1 div.sk-container {/* jupyter's `normalize.less` sets `[hidden] { display: none; }` but bootstrap.min.css set `[hidden] { display: none !important; }` so we also need the `!important` here to be able to override the default hidden behavior on the sphinx rendered scikit-learn.org. See: https://github.com/scikit-learn/scikit-learn/issues/21755 */display: inline-block !important;position: relative;}#sk-container-id-1 div.sk-text-repr-fallback {display: none;}</style><div id=\"sk-container-id-1\" class=\"sk-top-container\"><div class=\"sk-text-repr-fallback\"><pre>LogisticRegression()</pre><b>In a Jupyter environment, please rerun this cell to show the HTML representation or trust the notebook. <br />On GitHub, the HTML representation is unable to render, please try loading this page with nbviewer.org.</b></div><div class=\"sk-container\" hidden><div class=\"sk-item\"><div class=\"sk-estimator sk-toggleable\"><input class=\"sk-toggleable__control sk-hidden--visually\" id=\"sk-estimator-id-1\" type=\"checkbox\" checked><label for=\"sk-estimator-id-1\" class=\"sk-toggleable__label sk-toggleable__label-arrow\">LogisticRegression</label><div class=\"sk-toggleable__content\"><pre>LogisticRegression()</pre></div></div></div></div></div>"
      ],
      "text/plain": [
       "LogisticRegression()"
      ]
     },
     "execution_count": 36,
     "metadata": {},
     "output_type": "execute_result"
    }
   ],
   "source": [
    "model=LogisticRegression()\n",
    "model.fit(x_train,y_train)"
   ]
  },
  {
   "cell_type": "code",
   "execution_count": 37,
   "id": "c0c296a0",
   "metadata": {
    "execution": {
     "iopub.execute_input": "2025-07-01T11:20:39.516064Z",
     "iopub.status.busy": "2025-07-01T11:20:39.515751Z",
     "iopub.status.idle": "2025-07-01T11:20:39.524206Z",
     "shell.execute_reply": "2025-07-01T11:20:39.523427Z"
    },
    "papermill": {
     "duration": 0.025836,
     "end_time": "2025-07-01T11:20:39.525931",
     "exception": false,
     "start_time": "2025-07-01T11:20:39.500095",
     "status": "completed"
    },
    "tags": []
   },
   "outputs": [],
   "source": [
    "pred=model.predict(x_test)"
   ]
  },
  {
   "cell_type": "code",
   "execution_count": 38,
   "id": "90069072",
   "metadata": {
    "execution": {
     "iopub.execute_input": "2025-07-01T11:20:39.558160Z",
     "iopub.status.busy": "2025-07-01T11:20:39.557390Z",
     "iopub.status.idle": "2025-07-01T11:20:39.566964Z",
     "shell.execute_reply": "2025-07-01T11:20:39.566292Z"
    },
    "papermill": {
     "duration": 0.027471,
     "end_time": "2025-07-01T11:20:39.568702",
     "exception": false,
     "start_time": "2025-07-01T11:20:39.541231",
     "status": "completed"
    },
    "tags": []
   },
   "outputs": [
    {
     "name": "stdout",
     "output_type": "stream",
     "text": [
      "Accuracy: 0.7528089887640449\n"
     ]
    }
   ],
   "source": [
    "accuracy = accuracy_score(y_test, pred)\n",
    "print(\"Accuracy:\", accuracy)"
   ]
  },
  {
   "cell_type": "code",
   "execution_count": null,
   "id": "dc289006",
   "metadata": {
    "papermill": {
     "duration": 0.009213,
     "end_time": "2025-07-01T11:20:39.592765",
     "exception": false,
     "start_time": "2025-07-01T11:20:39.583552",
     "status": "completed"
    },
    "tags": []
   },
   "outputs": [],
   "source": []
  },
  {
   "cell_type": "code",
   "execution_count": null,
   "id": "6a63a254",
   "metadata": {
    "papermill": {
     "duration": 0.00862,
     "end_time": "2025-07-01T11:20:39.610599",
     "exception": false,
     "start_time": "2025-07-01T11:20:39.601979",
     "status": "completed"
    },
    "tags": []
   },
   "outputs": [],
   "source": []
  },
  {
   "cell_type": "code",
   "execution_count": null,
   "id": "d1ba4fee",
   "metadata": {
    "papermill": {
     "duration": 0.008507,
     "end_time": "2025-07-01T11:20:39.627975",
     "exception": false,
     "start_time": "2025-07-01T11:20:39.619468",
     "status": "completed"
    },
    "tags": []
   },
   "outputs": [],
   "source": []
  },
  {
   "cell_type": "code",
   "execution_count": 39,
   "id": "9dbd96aa",
   "metadata": {
    "execution": {
     "iopub.execute_input": "2025-07-01T11:20:39.647463Z",
     "iopub.status.busy": "2025-07-01T11:20:39.646497Z",
     "iopub.status.idle": "2025-07-01T11:20:39.651756Z",
     "shell.execute_reply": "2025-07-01T11:20:39.650995Z"
    },
    "papermill": {
     "duration": 0.016237,
     "end_time": "2025-07-01T11:20:39.653086",
     "exception": false,
     "start_time": "2025-07-01T11:20:39.636849",
     "status": "completed"
    },
    "tags": []
   },
   "outputs": [],
   "source": [
    "ids = data['PassengerId'].copy()\n",
    "submission = pd.DataFrame({\n",
    "    'PassengerId': ids[:len(pred)],\n",
    "    'Survived': pred\n",
    "})"
   ]
  },
  {
   "cell_type": "code",
   "execution_count": 40,
   "id": "f892c4fa",
   "metadata": {
    "execution": {
     "iopub.execute_input": "2025-07-01T11:20:39.672675Z",
     "iopub.status.busy": "2025-07-01T11:20:39.671923Z",
     "iopub.status.idle": "2025-07-01T11:20:39.680767Z",
     "shell.execute_reply": "2025-07-01T11:20:39.680063Z"
    },
    "papermill": {
     "duration": 0.019804,
     "end_time": "2025-07-01T11:20:39.682082",
     "exception": false,
     "start_time": "2025-07-01T11:20:39.662278",
     "status": "completed"
    },
    "tags": []
   },
   "outputs": [],
   "source": [
    "submission.to_csv('submission.csv', index=False)"
   ]
  },
  {
   "cell_type": "code",
   "execution_count": 41,
   "id": "6da2c914",
   "metadata": {
    "execution": {
     "iopub.execute_input": "2025-07-01T11:20:39.701519Z",
     "iopub.status.busy": "2025-07-01T11:20:39.700898Z",
     "iopub.status.idle": "2025-07-01T11:20:39.706153Z",
     "shell.execute_reply": "2025-07-01T11:20:39.705534Z"
    },
    "papermill": {
     "duration": 0.016194,
     "end_time": "2025-07-01T11:20:39.707424",
     "exception": false,
     "start_time": "2025-07-01T11:20:39.691230",
     "status": "completed"
    },
    "tags": []
   },
   "outputs": [
    {
     "data": {
      "text/plain": [
       "178"
      ]
     },
     "execution_count": 41,
     "metadata": {},
     "output_type": "execute_result"
    }
   ],
   "source": [
    "len(pred)"
   ]
  },
  {
   "cell_type": "code",
   "execution_count": 42,
   "id": "093a244d",
   "metadata": {
    "execution": {
     "iopub.execute_input": "2025-07-01T11:20:39.726773Z",
     "iopub.status.busy": "2025-07-01T11:20:39.726266Z",
     "iopub.status.idle": "2025-07-01T11:20:39.731247Z",
     "shell.execute_reply": "2025-07-01T11:20:39.730371Z"
    },
    "papermill": {
     "duration": 0.016092,
     "end_time": "2025-07-01T11:20:39.732639",
     "exception": false,
     "start_time": "2025-07-01T11:20:39.716547",
     "status": "completed"
    },
    "tags": []
   },
   "outputs": [],
   "source": [
    "test_features = data.drop(columns=['PassengerId'])"
   ]
  },
  {
   "cell_type": "code",
   "execution_count": 43,
   "id": "5a66ee85",
   "metadata": {
    "execution": {
     "iopub.execute_input": "2025-07-01T11:20:39.752807Z",
     "iopub.status.busy": "2025-07-01T11:20:39.752210Z",
     "iopub.status.idle": "2025-07-01T11:20:39.756387Z",
     "shell.execute_reply": "2025-07-01T11:20:39.755685Z"
    },
    "papermill": {
     "duration": 0.015892,
     "end_time": "2025-07-01T11:20:39.757710",
     "exception": false,
     "start_time": "2025-07-01T11:20:39.741818",
     "status": "completed"
    },
    "tags": []
   },
   "outputs": [],
   "source": [
    "test_features = test_features.fillna(0)"
   ]
  },
  {
   "cell_type": "code",
   "execution_count": null,
   "id": "493edb9c",
   "metadata": {
    "papermill": {
     "duration": 0.008817,
     "end_time": "2025-07-01T11:20:39.775917",
     "exception": false,
     "start_time": "2025-07-01T11:20:39.767100",
     "status": "completed"
    },
    "tags": []
   },
   "outputs": [],
   "source": []
  }
 ],
 "metadata": {
  "kaggle": {
   "accelerator": "none",
   "dataSources": [
    {
     "datasetId": 1818188,
     "sourceId": 2965537,
     "sourceType": "datasetVersion"
    }
   ],
   "dockerImageVersionId": 31040,
   "isGpuEnabled": false,
   "isInternetEnabled": true,
   "language": "python",
   "sourceType": "notebook"
  },
  "kernelspec": {
   "display_name": "Python 3",
   "language": "python",
   "name": "python3"
  },
  "language_info": {
   "codemirror_mode": {
    "name": "ipython",
    "version": 3
   },
   "file_extension": ".py",
   "mimetype": "text/x-python",
   "name": "python",
   "nbconvert_exporter": "python",
   "pygments_lexer": "ipython3",
   "version": "3.11.11"
  },
  "papermill": {
   "default_parameters": {},
   "duration": 10.65894,
   "end_time": "2025-07-01T11:20:40.403952",
   "environment_variables": {},
   "exception": null,
   "input_path": "__notebook__.ipynb",
   "output_path": "__notebook__.ipynb",
   "parameters": {},
   "start_time": "2025-07-01T11:20:29.745012",
   "version": "2.6.0"
  }
 },
 "nbformat": 4,
 "nbformat_minor": 5
}
